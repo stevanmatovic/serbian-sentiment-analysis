{
 "cells": [
  {
   "cell_type": "code",
   "execution_count": 1,
   "metadata": {},
   "outputs": [],
   "source": [
    "import numpy as np\n",
    "import pandas as pd\n",
    "from sklearn.feature_extraction.text import CountVectorizer, TfidfVectorizer\n",
    "from sklearn.model_selection import train_test_split\n",
    "from sklearn.naive_bayes import MultinomialNB\n",
    "from sklearn.metrics import classification_report\n",
    "from sklearn.model_selection import GridSearchCV\n",
    "from sklearn.linear_model import LogisticRegression"
   ]
  },
  {
   "cell_type": "code",
   "execution_count": 2,
   "metadata": {},
   "outputs": [],
   "source": [
    "df = pd.read_csv('final.csv')\n",
    "dfu = pd.read_csv('final_upweigting.csv')"
   ]
  },
  {
   "cell_type": "code",
   "execution_count": 3,
   "metadata": {},
   "outputs": [
    {
     "name": "stdout",
     "output_type": "stream",
     "text": [
      "Number of features - unigram: 21325\n",
      "Number of features - bigram: 251583\n",
      "Number of features - tfidf: 21325\n"
     ]
    }
   ],
   "source": [
    "\n",
    "df_x = df['Review']\n",
    "df_y = df['Label']\n",
    "x_train, x_test, y_train, y_test = train_test_split(df_x, df_y, test_size=0.2, random_state=4)\n",
    "cv_u = CountVectorizer()\n",
    "cv_b = CountVectorizer(ngram_range=(2, 2))\n",
    "tv = TfidfVectorizer()\n",
    "\n",
    "unigram_train = cv_u.fit_transform(x_train)\n",
    "unigram_test = cv_u.transform(x_test)\n",
    "print(\"Number of features - unigram: {}\".format(len(cv_u.get_feature_names())))\n",
    "\n",
    "bigram_train = cv_b.fit_transform(x_train)\n",
    "bigram_test = cv_b.transform(x_test)\n",
    "print(\"Number of features - bigram: {}\".format(len(cv_b.get_feature_names())))\n",
    "\n",
    "tfidf_train = tv.fit_transform(x_train)\n",
    "tfidf_test = tv.transform(x_test)\n",
    "print(\"Number of features - tfidf: {}\".format(len(tv.get_feature_names())))"
   ]
  },
  {
   "cell_type": "code",
   "execution_count": null,
   "metadata": {},
   "outputs": [],
   "source": []
  },
  {
   "cell_type": "code",
   "execution_count": 4,
   "metadata": {},
   "outputs": [
    {
     "name": "stdout",
     "output_type": "stream",
     "text": [
      "Multinomial naive bayes - Count vectorizer(unigram):\n",
      "Dataset without upweighting:\n",
      "              precision    recall  f1-score   support\n",
      "\n",
      "           0       0.69      0.71      0.70      1536\n",
      "           1       0.96      0.96      0.96     12343\n",
      "\n",
      "   micro avg       0.93      0.93      0.93     13879\n",
      "   macro avg       0.83      0.83      0.83     13879\n",
      "weighted avg       0.93      0.93      0.93     13879\n",
      "\n",
      "Dataset with upweighting:\n",
      "              precision    recall  f1-score   support\n",
      "\n",
      "           0       0.69      0.71      0.70      1536\n",
      "           1       0.96      0.96      0.96     12343\n",
      "\n",
      "   micro avg       0.93      0.93      0.93     13879\n",
      "   macro avg       0.83      0.83      0.83     13879\n",
      "weighted avg       0.93      0.93      0.93     13879\n",
      "\n"
     ]
    }
   ],
   "source": [
    "print('Multinomial naive bayes - Count vectorizer(unigram):')\n",
    "for dataset in [df,dfu]:\n",
    "    mnb = MultinomialNB()\n",
    "    mnb.fit(unigram_train,y_train)\n",
    "    y_pred = mnb.predict(unigram_test)\n",
    "    if not dataset.equals(df):\n",
    "        print('Dataset with upweighting:')\n",
    "    else:\n",
    "        print('Dataset without upweighting:')\n",
    "    print(classification_report(y_test, y_pred))"
   ]
  },
  {
   "cell_type": "code",
   "execution_count": 5,
   "metadata": {},
   "outputs": [
    {
     "name": "stdout",
     "output_type": "stream",
     "text": [
      "Multinomial naive bayes - Count vectorizer(bigram):\n",
      "Dataset without upweighting:\n",
      "              precision    recall  f1-score   support\n",
      "\n",
      "           0       0.82      0.38      0.52      1536\n",
      "           1       0.93      0.99      0.96     12343\n",
      "\n",
      "   micro avg       0.92      0.92      0.92     13879\n",
      "   macro avg       0.87      0.69      0.74     13879\n",
      "weighted avg       0.92      0.92      0.91     13879\n",
      "\n",
      "Dataset with upweighting:\n",
      "              precision    recall  f1-score   support\n",
      "\n",
      "           0       0.82      0.38      0.52      1536\n",
      "           1       0.93      0.99      0.96     12343\n",
      "\n",
      "   micro avg       0.92      0.92      0.92     13879\n",
      "   macro avg       0.87      0.69      0.74     13879\n",
      "weighted avg       0.92      0.92      0.91     13879\n",
      "\n"
     ]
    }
   ],
   "source": [
    "print('Multinomial naive bayes - Count vectorizer(bigram):')\n",
    "for dataset in [df,dfu]:\n",
    "    mnb = MultinomialNB()\n",
    "    mnb.fit(bigram_train,y_train)\n",
    "    y_pred = mnb.predict(bigram_test)\n",
    "    if not dataset.equals(df):\n",
    "        print('Dataset with upweighting:')\n",
    "    else:\n",
    "        print('Dataset without upweighting:')\n",
    "    print(classification_report(y_test, y_pred))"
   ]
  },
  {
   "cell_type": "code",
   "execution_count": 6,
   "metadata": {},
   "outputs": [
    {
     "name": "stdout",
     "output_type": "stream",
     "text": [
      "Multinomial naive bayes - tfidf vectorizer(bigram):\n",
      "Dataset without upweighting:\n",
      "              precision    recall  f1-score   support\n",
      "\n",
      "           0       0.91      0.17      0.29      1536\n",
      "           1       0.91      1.00      0.95     12343\n",
      "\n",
      "   micro avg       0.91      0.91      0.91     13879\n",
      "   macro avg       0.91      0.59      0.62     13879\n",
      "weighted avg       0.91      0.91      0.88     13879\n",
      "\n",
      "Dataset with upweighting:\n",
      "              precision    recall  f1-score   support\n",
      "\n",
      "           0       0.91      0.17      0.29      1536\n",
      "           1       0.91      1.00      0.95     12343\n",
      "\n",
      "   micro avg       0.91      0.91      0.91     13879\n",
      "   macro avg       0.91      0.59      0.62     13879\n",
      "weighted avg       0.91      0.91      0.88     13879\n",
      "\n"
     ]
    }
   ],
   "source": [
    "print('Multinomial naive bayes - tfidf vectorizer(bigram):')\n",
    "for dataset in [df,dfu]:\n",
    "    mnb = MultinomialNB()\n",
    "    mnb.fit(tfidf_train,y_train)\n",
    "    y_pred = mnb.predict(tfidf_test)\n",
    "    if not dataset.equals(df):\n",
    "        print('Dataset with upweighting:')\n",
    "    else:\n",
    "        print('Dataset without upweighting:')\n",
    "    print(classification_report(y_test, y_pred))"
   ]
  },
  {
   "cell_type": "code",
   "execution_count": null,
   "metadata": {},
   "outputs": [],
   "source": []
  }
 ],
 "metadata": {
  "kernelspec": {
   "display_name": "Python 3",
   "language": "python",
   "name": "python3"
  },
  "language_info": {
   "codemirror_mode": {
    "name": "ipython",
    "version": 3
   },
   "file_extension": ".py",
   "mimetype": "text/x-python",
   "name": "python",
   "nbconvert_exporter": "python",
   "pygments_lexer": "ipython3",
   "version": "3.7.1"
  }
 },
 "nbformat": 4,
 "nbformat_minor": 2
}
