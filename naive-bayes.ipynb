{
 "cells": [
  {
   "cell_type": "code",
   "execution_count": 13,
   "metadata": {},
   "outputs": [],
   "source": [
    "import numpy as np\n",
    "import pandas as pd\n",
    "from IPython.display import Markdown, display\n",
    "from sklearn.feature_extraction.text import CountVectorizer, TfidfVectorizer\n",
    "from sklearn.model_selection import train_test_split\n",
    "from sklearn.naive_bayes import MultinomialNB\n",
    "from sklearn.metrics import classification_report\n",
    "from sklearn.model_selection import GridSearchCV\n",
    "from sklearn.linear_model import LogisticRegression"
   ]
  },
  {
   "cell_type": "code",
   "execution_count": 2,
   "metadata": {},
   "outputs": [],
   "source": [
    "df = pd.read_csv('final.csv')\n",
    "dfu = pd.read_csv('final_upweigting.csv')"
   ]
  },
  {
   "cell_type": "code",
   "execution_count": 8,
   "metadata": {},
   "outputs": [],
   "source": [
    "def mnb(x_train,y_train,x_test,y_test):\n",
    "    mnb = MultinomialNB()\n",
    "    mnb.fit(x_train,y_train)\n",
    "    y_pred = mnb.predict(x_test)\n",
    "    print(classification_report(y_test, y_pred))"
   ]
  },
  {
   "cell_type": "code",
   "execution_count": 14,
   "metadata": {},
   "outputs": [
    {
     "data": {
      "text/markdown": [
       "<h1>Dataset without upweighting:</h1>"
      ],
      "text/plain": [
       "<IPython.core.display.Markdown object>"
      ]
     },
     "metadata": {},
     "output_type": "display_data"
    },
    {
     "name": "stdout",
     "output_type": "stream",
     "text": [
      "Number of features - unigram: 21325\n",
      "Number of features - bigram: 251583\n",
      "Number of features - tfidf: 21325\n"
     ]
    },
    {
     "data": {
      "text/markdown": [
       "<h2>Multinomial bayes(unigram vectorization):</h2>"
      ],
      "text/plain": [
       "<IPython.core.display.Markdown object>"
      ]
     },
     "metadata": {},
     "output_type": "display_data"
    },
    {
     "name": "stdout",
     "output_type": "stream",
     "text": [
      "              precision    recall  f1-score   support\n",
      "\n",
      "           0       0.69      0.71      0.70      1536\n",
      "           1       0.96      0.96      0.96     12343\n",
      "\n",
      "   micro avg       0.93      0.93      0.93     13879\n",
      "   macro avg       0.83      0.83      0.83     13879\n",
      "weighted avg       0.93      0.93      0.93     13879\n",
      "\n"
     ]
    },
    {
     "data": {
      "text/markdown": [
       "<h2>Multinomial bayes(bigram vectorization):</h2>"
      ],
      "text/plain": [
       "<IPython.core.display.Markdown object>"
      ]
     },
     "metadata": {},
     "output_type": "display_data"
    },
    {
     "name": "stdout",
     "output_type": "stream",
     "text": [
      "              precision    recall  f1-score   support\n",
      "\n",
      "           0       0.82      0.38      0.52      1536\n",
      "           1       0.93      0.99      0.96     12343\n",
      "\n",
      "   micro avg       0.92      0.92      0.92     13879\n",
      "   macro avg       0.87      0.69      0.74     13879\n",
      "weighted avg       0.92      0.92      0.91     13879\n",
      "\n"
     ]
    },
    {
     "data": {
      "text/markdown": [
       "<h2>Multinomial bayes(tfidf vectorization):</h2>"
      ],
      "text/plain": [
       "<IPython.core.display.Markdown object>"
      ]
     },
     "metadata": {},
     "output_type": "display_data"
    },
    {
     "name": "stdout",
     "output_type": "stream",
     "text": [
      "              precision    recall  f1-score   support\n",
      "\n",
      "           0       0.91      0.17      0.29      1536\n",
      "           1       0.91      1.00      0.95     12343\n",
      "\n",
      "   micro avg       0.91      0.91      0.91     13879\n",
      "   macro avg       0.91      0.59      0.62     13879\n",
      "weighted avg       0.91      0.91      0.88     13879\n",
      "\n"
     ]
    },
    {
     "data": {
      "text/markdown": [
       "<h1>Dataset with upweighting:</h1>"
      ],
      "text/plain": [
       "<IPython.core.display.Markdown object>"
      ]
     },
     "metadata": {},
     "output_type": "display_data"
    },
    {
     "name": "stdout",
     "output_type": "stream",
     "text": [
      "Number of features - unigram: 21325\n",
      "Number of features - bigram: 259453\n",
      "Number of features - tfidf: 21325\n"
     ]
    },
    {
     "data": {
      "text/markdown": [
       "<h2>Multinomial bayes(unigram vectorization):</h2>"
      ],
      "text/plain": [
       "<IPython.core.display.Markdown object>"
      ]
     },
     "metadata": {},
     "output_type": "display_data"
    },
    {
     "name": "stdout",
     "output_type": "stream",
     "text": [
      "              precision    recall  f1-score   support\n",
      "\n",
      "           0       0.67      0.75      0.71      1536\n",
      "           1       0.97      0.95      0.96     12343\n",
      "\n",
      "   micro avg       0.93      0.93      0.93     13879\n",
      "   macro avg       0.82      0.85      0.83     13879\n",
      "weighted avg       0.94      0.93      0.93     13879\n",
      "\n"
     ]
    },
    {
     "data": {
      "text/markdown": [
       "<h2>Multinomial bayes(bigram vectorization):</h2>"
      ],
      "text/plain": [
       "<IPython.core.display.Markdown object>"
      ]
     },
     "metadata": {},
     "output_type": "display_data"
    },
    {
     "name": "stdout",
     "output_type": "stream",
     "text": [
      "              precision    recall  f1-score   support\n",
      "\n",
      "           0       0.79      0.49      0.61      1536\n",
      "           1       0.94      0.98      0.96     12343\n",
      "\n",
      "   micro avg       0.93      0.93      0.93     13879\n",
      "   macro avg       0.87      0.74      0.78     13879\n",
      "weighted avg       0.92      0.93      0.92     13879\n",
      "\n"
     ]
    },
    {
     "data": {
      "text/markdown": [
       "<h2>Multinomial bayes(tfidf vectorization):</h2>"
      ],
      "text/plain": [
       "<IPython.core.display.Markdown object>"
      ]
     },
     "metadata": {},
     "output_type": "display_data"
    },
    {
     "name": "stdout",
     "output_type": "stream",
     "text": [
      "              precision    recall  f1-score   support\n",
      "\n",
      "           0       0.92      0.21      0.34      1536\n",
      "           1       0.91      1.00      0.95     12343\n",
      "\n",
      "   micro avg       0.91      0.91      0.91     13879\n",
      "   macro avg       0.91      0.60      0.64     13879\n",
      "weighted avg       0.91      0.91      0.88     13879\n",
      "\n"
     ]
    }
   ],
   "source": [
    "for dataset in [df,dfu]:\n",
    "    if not dataset.equals(dfu):\n",
    "        display(Markdown('<h1>Dataset without upweighting:</h1>'))\n",
    "    else:\n",
    "        display(Markdown('<h1>Dataset with upweighting:</h1>'))\n",
    "    df_x = dataset['Review']\n",
    "    df_y = dataset['Label']\n",
    "    x_train, x_test, y_train, y_test = train_test_split(df_x, df_y, test_size=0.2, random_state=4)\n",
    "    cv_u = CountVectorizer()\n",
    "    cv_b = CountVectorizer(ngram_range=(2, 2))\n",
    "    tv = TfidfVectorizer()\n",
    "\n",
    "    unigram_train = cv_u.fit_transform(x_train)\n",
    "    unigram_test = cv_u.transform(x_test)\n",
    "    print(\"Number of features - unigram: {}\".format(len(cv_u.get_feature_names())))\n",
    "\n",
    "    bigram_train = cv_b.fit_transform(x_train)\n",
    "    bigram_test = cv_b.transform(x_test)\n",
    "    print(\"Number of features - bigram: {}\".format(len(cv_b.get_feature_names())))\n",
    "\n",
    "    tfidf_train = tv.fit_transform(x_train)\n",
    "    tfidf_test = tv.transform(x_test)\n",
    "    print(\"Number of features - tfidf: {}\".format(len(tv.get_feature_names())))\n",
    "    \n",
    "    display(Markdown('<h2>Multinomial bayes(unigram vectorization):</h2>'))\n",
    "    mnb(unigram_train,y_train,unigram_test,y_test)\n",
    "    \n",
    "    \n",
    "    display(Markdown('<h2>Multinomial bayes(bigram vectorization):</h2>'))\n",
    "    mnb(bigram_train,y_train,bigram_test,y_test)\n",
    "    \n",
    "    display(Markdown('<h2>Multinomial bayes(tfidf vectorization):</h2>'))\n",
    "    mnb(tfidf_train,y_train,tfidf_test,y_test)"
   ]
  }
 ],
 "metadata": {
  "kernelspec": {
   "display_name": "Python 3",
   "language": "python",
   "name": "python3"
  },
  "language_info": {
   "codemirror_mode": {
    "name": "ipython",
    "version": 3
   },
   "file_extension": ".py",
   "mimetype": "text/x-python",
   "name": "python",
   "nbconvert_exporter": "python",
   "pygments_lexer": "ipython3",
   "version": "3.7.1"
  }
 },
 "nbformat": 4,
 "nbformat_minor": 2
}
